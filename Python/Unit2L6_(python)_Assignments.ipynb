{
  "nbformat": 4,
  "nbformat_minor": 0,
  "metadata": {
    "colab": {
      "name": "Unit2L6 (python) Assignments.ipynb",
      "provenance": [],
      "authorship_tag": "ABX9TyNpokSXT+VM3c9kk2q/cmok",
      "include_colab_link": true
    },
    "kernelspec": {
      "name": "python3",
      "display_name": "Python 3"
    }
  },
  "cells": [
    {
      "cell_type": "markdown",
      "metadata": {
        "id": "view-in-github",
        "colab_type": "text"
      },
      "source": [
        "<a href=\"https://colab.research.google.com/github/EmileZounon/data_analytics_2/blob/main/Python/Unit2L6_(python)_Assignments.ipynb\" target=\"_parent\"><img src=\"https://colab.research.google.com/assets/colab-badge.svg\" alt=\"Open In Colab\"/></a>"
      ]
    },
    {
      "cell_type": "code",
      "metadata": {
        "colab": {
          "base_uri": "https://localhost:8080/"
        },
        "id": "PKC5DPX97R9y",
        "outputId": "74497385-cd46-4c6e-cd79-5d9e9a4f4804"
      },
      "source": [
        "#Create a simple dictionary that stores 2 variables, for example: first and last name\n",
        "#Print out those variables stored in your previous dictionary\n",
        "fullname ={'firstname':'John', 'lastname': \"Doe\"}\n",
        "print(fullname['firstname'], fullname['lastname'])\n"
      ],
      "execution_count": 4,
      "outputs": [
        {
          "output_type": "stream",
          "text": [
            "John Doe\n"
          ],
          "name": "stdout"
        }
      ]
    },
    {
      "cell_type": "code",
      "metadata": {
        "colab": {
          "base_uri": "https://localhost:8080/"
        },
        "id": "XpWrQLx68nhv",
        "outputId": "8642c166-f4eb-462d-90e1-5b24915db1a5"
      },
      "source": [
        "#Add a message to those variables on printing: for example: “Hello, firstname lastname!”\n",
        "\n",
        "print(\"Hello, \" + fullname['firstname'], fullname['lastname'])"
      ],
      "execution_count": 5,
      "outputs": [
        {
          "output_type": "stream",
          "text": [
            "Hello, John Doe\n"
          ],
          "name": "stdout"
        }
      ]
    },
    {
      "cell_type": "code",
      "metadata": {
        "colab": {
          "base_uri": "https://localhost:8080/"
        },
        "id": "qJCONgby89K4",
        "outputId": "8ab0a82e-fe12-4e80-d3f7-3b123a94feab"
      },
      "source": [
        "#Create a dictionary that holds 2 key: value pairs:\n",
        "#Loop through your dictionary and print each pair,\n",
        "friends = {'john': '16', 'anna': '18',\n",
        "           'janne': '27', 'ben':'29'}\n",
        "\n",
        "for key,value in friends.items():\n",
        "  print(key, value)\n",
        "  #print(value)\n"
      ],
      "execution_count": 8,
      "outputs": [
        {
          "output_type": "stream",
          "text": [
            "john 16\n",
            "anna 18\n",
            "jane 27\n",
            "ben 29\n"
          ],
          "name": "stdout"
        }
      ]
    },
    {
      "cell_type": "code",
      "metadata": {
        "colab": {
          "base_uri": "https://localhost:8080/"
        },
        "id": "r2eTvowe9CC0",
        "outputId": "44ec40c6-2fc6-4ed2-f94c-42f61912c578"
      },
      "source": [
        "#Create a nested dictionary containing three dictionaries – \n",
        "#these dictionaries could be anything (favorite pets, travel locations, etc.)\n",
        "#Loop through the dictionaries and print a message for each.\n",
        "bigdico = {'countries':{'france':'paris', 'germany':'munich'},\n",
        "           'cities':{ 'china':'wuhan','russia':'petersburg'},\n",
        "           'transport':{'wuhan':'plane', 'petersburg':'car'}}\n",
        "for dico_id, dico_value in bigdico.items():\n",
        "  print(\"\\nID:\", dico_id)\n",
        "  for key in dico_value:\n",
        "        print(key + ':', dico_value[key])\n"
      ],
      "execution_count": 36,
      "outputs": [
        {
          "output_type": "stream",
          "text": [
            "\n",
            "ID: countries\n",
            "france: paris\n",
            "germany: munich\n",
            "\n",
            "ID: cities\n",
            "china: wuhan\n",
            "russia: petersburg\n",
            "\n",
            "ID: transport\n",
            "wuhan: plane\n",
            "petersburg: car\n"
          ],
          "name": "stdout"
        }
      ]
    }
  ]
}