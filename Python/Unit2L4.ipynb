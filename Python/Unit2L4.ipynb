{
  "nbformat": 4,
  "nbformat_minor": 0,
  "metadata": {
    "colab": {
      "name": "Unit2L4.ipynb",
      "provenance": [],
      "authorship_tag": "ABX9TyO975INNGCvNwpFGBT35XO2",
      "include_colab_link": true
    },
    "kernelspec": {
      "name": "python3",
      "display_name": "Python 3"
    }
  },
  "cells": [
    {
      "cell_type": "markdown",
      "metadata": {
        "id": "view-in-github",
        "colab_type": "text"
      },
      "source": [
        "<a href=\"https://colab.research.google.com/github/EmileZounon/data_analytics_2/blob/main/Python/Unit2L4.ipynb\" target=\"_parent\"><img src=\"https://colab.research.google.com/assets/colab-badge.svg\" alt=\"Open In Colab\"/></a>"
      ]
    },
    {
      "cell_type": "code",
      "metadata": {
        "colab": {
          "base_uri": "https://localhost:8080/"
        },
        "id": "4NOoKxp1LXXz",
        "outputId": "d4d646e3-f870-4b6d-fadd-74a2150afbaf"
      },
      "source": [
        "#Create a list that holds 5 data variables.\n",
        "mygreets = ['hi','hey', 'hola','salute','bonjour']\n",
        "for greet in mygreets\n",
        "  print(mygreets)\n"
      ],
      "execution_count": 1,
      "outputs": [
        {
          "output_type": "stream",
          "text": [
            "['hi', 'hey', 'hola', 'salute', 'bonjour']\n"
          ],
          "name": "stdout"
        }
      ]
    },
    {
      "cell_type": "code",
      "metadata": {
        "colab": {
          "base_uri": "https://localhost:8080/"
        },
        "id": "M0vwjo2DMVFg",
        "outputId": "dd7af7fe-4bda-47d1-ca29-0e4116df7763"
      },
      "source": [
        "#Print out those variables by using a for loop.\n",
        "#mygreets = ['hi','hey', 'hola','salute','bonjour']\n",
        "for greet in mygreets:\n",
        "  print(greet)\n"
      ],
      "execution_count": 4,
      "outputs": [
        {
          "output_type": "stream",
          "text": [
            "hi\n",
            "hey\n",
            "hola\n",
            "salute\n",
            "bonjour\n"
          ],
          "name": "stdout"
        }
      ]
    },
    {
      "cell_type": "code",
      "metadata": {
        "colab": {
          "base_uri": "https://localhost:8080/"
        },
        "id": "w3jfRp0BMnl8",
        "outputId": "9506998d-adc3-479c-cf47-3ad750b6e83e"
      },
      "source": [
        "#Modify your for loop to add a message to your for loop.\n",
        "mygreets = ['hi','hey', 'hola','salute','bonjour']\n",
        "for greet in mygreets[0:2]:\n",
        "  print(greet + \" nice to meet you\")\n",
        "for greet in mygreets[2:4]:\n",
        "    print(greet + \" Encantada de conocerte\")\n",
        "for greet in mygreets[4:]:\n",
        "  print(greet+ \" ravi de faire votre connaissance\")\n"
      ],
      "execution_count": 37,
      "outputs": [
        {
          "output_type": "stream",
          "text": [
            "hi nice to meet you\n",
            "hey nice to meet you\n",
            "hola Encantada de conocerte\n",
            "salute Encantada de conocerte\n",
            "bonjour ravi de faire votre connaissance\n"
          ],
          "name": "stdout"
        }
      ]
    },
    {
      "cell_type": "code",
      "metadata": {
        "colab": {
          "base_uri": "https://localhost:8080/"
        },
        "id": "NDkftdKkOHO7",
        "outputId": "d4e2fd6f-8683-425a-d89c-2028e1e5bed7"
      },
      "source": [
        "#Use a for loop to print even numbers from 1-20\n",
        "for num in range (1,21):\n",
        "  if num %2 ==0:\n",
        "    print(num)"
      ],
      "execution_count": 19,
      "outputs": [
        {
          "output_type": "stream",
          "text": [
            "2\n",
            "4\n",
            "6\n",
            "8\n",
            "10\n",
            "12\n",
            "14\n",
            "16\n",
            "18\n",
            "20\n"
          ],
          "name": "stdout"
        }
      ]
    },
    {
      "cell_type": "code",
      "metadata": {
        "colab": {
          "base_uri": "https://localhost:8080/"
        },
        "id": "vd3pfkqMOoSC",
        "outputId": "36f4e555-21d7-49e8-b6df-a947ca4ce430"
      },
      "source": [
        "numb = list(range(1,20))\n",
        "print(numb)"
      ],
      "execution_count": 17,
      "outputs": [
        {
          "output_type": "stream",
          "text": [
            "[1, 2, 3, 4, 5, 6, 7, 8, 9, 10, 11, 12, 13, 14, 15, 16, 17, 18, 19]\n"
          ],
          "name": "stdout"
        }
      ]
    },
    {
      "cell_type": "code",
      "metadata": {
        "colab": {
          "base_uri": "https://localhost:8080/"
        },
        "id": "s6NWodNnOvPg",
        "outputId": "d2920783-2c8c-4ecd-f873-5c5955224bcb"
      },
      "source": [
        "#Sort your list in alphabetic order.\n",
        "mygreets.sort()\n",
        "print(mygreets)"
      ],
      "execution_count": 20,
      "outputs": [
        {
          "output_type": "stream",
          "text": [
            "['bonjour', 'hey', 'hi', 'hola', 'salute']\n"
          ],
          "name": "stdout"
        }
      ]
    },
    {
      "cell_type": "code",
      "metadata": {
        "colab": {
          "base_uri": "https://localhost:8080/"
        },
        "id": "aPSpBw3PPwkQ",
        "outputId": "5de71f5e-927d-4e01-8735-9c7d5b0e625d"
      },
      "source": [
        "#Print out the first three elements of your list.\n",
        "print(mygreets[0:3])\n"
      ],
      "execution_count": 21,
      "outputs": [
        {
          "output_type": "stream",
          "text": [
            "['bonjour', 'hey', 'hi']\n"
          ],
          "name": "stdout"
        }
      ]
    },
    {
      "cell_type": "code",
      "metadata": {
        "colab": {
          "base_uri": "https://localhost:8080/"
        },
        "id": "ayGmqOYdP_VG",
        "outputId": "88303479-30c7-446b-b400-fe20cbfd2317"
      },
      "source": [
        "#Create a loop to print the last 2 elements of your list:\n",
        "print(mygreets)\n",
        "for greet in mygreets [3:]:\n",
        "  print(greet)"
      ],
      "execution_count": 29,
      "outputs": [
        {
          "output_type": "stream",
          "text": [
            "['bonjour', 'hey', 'hi', 'hola', 'salute']\n",
            "hola\n",
            "salute\n"
          ],
          "name": "stdout"
        }
      ]
    }
  ]
}