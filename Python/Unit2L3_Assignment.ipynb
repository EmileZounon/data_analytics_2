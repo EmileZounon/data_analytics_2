{
  "nbformat": 4,
  "nbformat_minor": 0,
  "metadata": {
    "colab": {
      "name": "Unit2L3 Assignment.ipynb",
      "provenance": [],
      "collapsed_sections": [],
      "authorship_tag": "ABX9TyPGfFjZDsc0gHkvdspEsPla",
      "include_colab_link": true
    },
    "kernelspec": {
      "name": "python3",
      "display_name": "Python 3"
    }
  },
  "cells": [
    {
      "cell_type": "markdown",
      "metadata": {
        "id": "view-in-github",
        "colab_type": "text"
      },
      "source": [
        "<a href=\"https://colab.research.google.com/github/EmileZounon/data_analytics_2/blob/main/Python/Unit2L3_Assignment.ipynb\" target=\"_parent\"><img src=\"https://colab.research.google.com/assets/colab-badge.svg\" alt=\"Open In Colab\"/></a>"
      ]
    },
    {
      "cell_type": "code",
      "metadata": {
        "colab": {
          "base_uri": "https://localhost:8080/"
        },
        "id": "QExk9vIIDLqc",
        "outputId": "af37f6cb-f492-49f5-f6f0-74a367eca87e"
      },
      "source": [
        "#Create a list of 5 of your favorite tv shows.\n",
        "tvshows = ['blacklist','the flash', 'haven', 'sabrina', 'avengers']\n",
        "print(tvshows)"
      ],
      "execution_count": 20,
      "outputs": [
        {
          "output_type": "stream",
          "text": [
            "['blacklist', 'the flash', 'haven', 'sabrina', 'avengers']\n"
          ],
          "name": "stdout"
        }
      ]
    },
    {
      "cell_type": "code",
      "metadata": {
        "colab": {
          "base_uri": "https://localhost:8080/"
        },
        "id": "WS-vLcmqHiaP",
        "outputId": "8614d5bb-a344-406c-8f26-8293048735b0"
      },
      "source": [
        "#Use the sorted() function to print the list in alphabetical order.  How is sorted() different from sort()?\n",
        "print(tvshows)\n",
        "print(sorted(tvshows))\n",
        "#print(tvshows)"
      ],
      "execution_count": 22,
      "outputs": [
        {
          "output_type": "stream",
          "text": [
            "['blacklist', 'the flash', 'haven', 'sabrina', 'avengers']\n",
            "['avengers', 'blacklist', 'haven', 'sabrina', 'the flash']\n"
          ],
          "name": "stdout"
        }
      ]
    },
    {
      "cell_type": "code",
      "metadata": {
        "colab": {
          "base_uri": "https://localhost:8080/"
        },
        "id": "keWhFqN6IGKe",
        "outputId": "30b9e863-79bf-4461-86d1-13b002f9b762"
      },
      "source": [
        "#Print out your original list.\n",
        "print(tvshows)"
      ],
      "execution_count": 23,
      "outputs": [
        {
          "output_type": "stream",
          "text": [
            "['blacklist', 'the flash', 'haven', 'sabrina', 'avengers']\n"
          ],
          "name": "stdout"
        }
      ]
    },
    {
      "cell_type": "code",
      "metadata": {
        "colab": {
          "base_uri": "https://localhost:8080/"
        },
        "id": "XzTQDtA8ITKs",
        "outputId": "4f8ba2d2-d942-4cf7-d735-c2b8661c4796"
      },
      "source": [
        "#Used sort() to print your list in reverse alphabetical order.\n",
        "tvshows.sort(reverse=True)\n",
        "print(tvshows)"
      ],
      "execution_count": 34,
      "outputs": [
        {
          "output_type": "stream",
          "text": [
            "['the flash', 'sabrina', 'haven', 'blacklist', 'avengers']\n"
          ],
          "name": "stdout"
        }
      ]
    },
    {
      "cell_type": "code",
      "metadata": {
        "colab": {
          "base_uri": "https://localhost:8080/"
        },
        "id": "Nle8bTLHJsrq",
        "outputId": "48d54f89-0151-43da-ec09-0b685391f853"
      },
      "source": [
        "#Used sorted() to print your list in reverse alphabetical order\n",
        "print(sorted(tvshows,reverse = True))"
      ],
      "execution_count": 35,
      "outputs": [
        {
          "output_type": "stream",
          "text": [
            "['the flash', 'sabrina', 'haven', 'blacklist', 'avengers']\n"
          ],
          "name": "stdout"
        }
      ]
    },
    {
      "cell_type": "code",
      "metadata": {
        "colab": {
          "base_uri": "https://localhost:8080/"
        },
        "id": "lwG5KKTiKJN7",
        "outputId": "5c606a7b-db78-4a58-960b-27c0e68286ee"
      },
      "source": [
        "#Create a message indicating how many favorite TV shows you have – use the len() function.\n",
        "numberstv = len(tvshows)\n",
        "print(\"I have \" + str(numberstv)+ \" tv shows\")\n"
      ],
      "execution_count": 40,
      "outputs": [
        {
          "output_type": "stream",
          "text": [
            "I have 5 tv shows\n"
          ],
          "name": "stdout"
        }
      ]
    }
  ]
}