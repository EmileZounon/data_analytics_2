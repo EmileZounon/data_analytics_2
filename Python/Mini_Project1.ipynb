{
  "nbformat": 4,
  "nbformat_minor": 0,
  "metadata": {
    "colab": {
      "name": "Mini Project1.ipynb",
      "provenance": [],
      "collapsed_sections": [],
      "authorship_tag": "ABX9TyMI3zAyNDI9yPnTLM9Hhm69",
      "include_colab_link": true
    },
    "kernelspec": {
      "name": "python3",
      "display_name": "Python 3"
    }
  },
  "cells": [
    {
      "cell_type": "markdown",
      "metadata": {
        "id": "view-in-github",
        "colab_type": "text"
      },
      "source": [
        "<a href=\"https://colab.research.google.com/github/EmileZounon/data_analytics_2/blob/main/Python/Mini_Project1.ipynb\" target=\"_parent\"><img src=\"https://colab.research.google.com/assets/colab-badge.svg\" alt=\"Open In Colab\"/></a>"
      ]
    },
    {
      "cell_type": "code",
      "metadata": {
        "id": "QBXC8YSMhi3M",
        "colab": {
          "base_uri": "https://localhost:8080/"
        },
        "outputId": "a2bf5b26-781f-4b1a-a9d3-16067e53edca"
      },
      "source": [
        "#Ask the user for a number. Depending on whether the number is even or odd,\n",
        "#print out an appropriate message to the user. Hint: how does an even / odd\n",
        "#number react differently when divided by 2?\n",
        "\n",
        "muser = int(input(\"Please enter a number : \"))\n",
        "if muser % 2 == 0:\n",
        "  print(muser, \" is even\".format(muser))\n",
        "if muser % 4 == 0:\n",
        "  print(muser, \"is a multiple of 4\".format(muser))\n",
        "if muser %2!=0:\n",
        "  print(muser, \" is odd\".format(muser))\n",
        "\n",
        "\n",
        "\n"
      ],
      "execution_count": 45,
      "outputs": [
        {
          "output_type": "stream",
          "text": [
            "Please enter a number : 5\n",
            "5  is odd\n"
          ],
          "name": "stdout"
        }
      ]
    },
    {
      "cell_type": "code",
      "metadata": {
        "colab": {
          "base_uri": "https://localhost:8080/"
        },
        "id": "t5LsJkzP15Hr",
        "outputId": "b63740e9-f8bc-4487-c88e-e9b9ace41a2e"
      },
      "source": [
        "\n",
        "#Ask the user for two numbers: one number to check (call it num) and one number to divide by (check). \n",
        "#If check divides evenly into num, tell that to the user. If not, print a different appropriate message.\n",
        "num = int(input(\"Enter a first number: \"))\n",
        "check = int (input(\" Enter a second number: \"))\n",
        "\n",
        "if num % check == 0:\n",
        "  print (check, \"divide evenly into\".format(check), num)\n",
        "else:\n",
        "  print( check, \"does not divide evenly into\".format(check),num)"
      ],
      "execution_count": 55,
      "outputs": [
        {
          "output_type": "stream",
          "text": [
            "Enter a first number: 10\n",
            " Enter a second number: 3\n",
            "3 does not divide evenly into 10\n"
          ],
          "name": "stdout"
        }
      ]
    },
    {
      "cell_type": "code",
      "metadata": {
        "colab": {
          "base_uri": "https://localhost:8080/"
        },
        "id": "fya5K5t97fbE",
        "outputId": "50b2f627-d969-4f7f-ee29-81cef1863648"
      },
      "source": [
        "#Write a custom function for finding whether the number\n",
        "#is even or odd and call it in your main program code.\n",
        "\n",
        "chiffre = int(input(\"Please enter a number : \"))\n",
        "def finder (chiffre):\n",
        "  \"\"\"Find whether the number is even or add\"\"\"\n",
        "  \n",
        "  if chiffre % 2 == 0:\n",
        "    print(chiffre, \" is even\".format(chiffre))\n",
        "  if chiffre %2!=0:\n",
        "    print(chiffre, \" is odd\".format(chiffre))\n",
        "\n",
        "finder (chiffre)\n"
      ],
      "execution_count": 74,
      "outputs": [
        {
          "output_type": "stream",
          "text": [
            "Please enter a number : 3\n",
            "3  is odd\n"
          ],
          "name": "stdout"
        }
      ]
    }
  ]
}