{
  "nbformat": 4,
  "nbformat_minor": 0,
  "metadata": {
    "colab": {
      "name": "Unit2L2 Assignment.ipynb",
      "provenance": [],
      "collapsed_sections": [],
      "authorship_tag": "ABX9TyMPNusfX8CEx59xTERqFS1A",
      "include_colab_link": true
    },
    "kernelspec": {
      "name": "python3",
      "display_name": "Python 3"
    }
  },
  "cells": [
    {
      "cell_type": "markdown",
      "metadata": {
        "id": "view-in-github",
        "colab_type": "text"
      },
      "source": [
        "<a href=\"https://colab.research.google.com/github/EmileZounon/data_analytics_2/blob/main/Python/Unit2L2_Assignment.ipynb\" target=\"_parent\"><img src=\"https://colab.research.google.com/assets/colab-badge.svg\" alt=\"Open In Colab\"/></a>"
      ]
    },
    {
      "cell_type": "code",
      "metadata": {
        "colab": {
          "base_uri": "https://localhost:8080/"
        },
        "id": "RcBvKMUnF61u",
        "outputId": "966af7a2-b782-4ad4-9690-247882e96b01"
      },
      "source": [
        "salute = \"Hello there!\"\n",
        "print(salute)\n"
      ],
      "execution_count": 5,
      "outputs": [
        {
          "output_type": "stream",
          "text": [
            "Hello there!\n"
          ],
          "name": "stdout"
        }
      ]
    },
    {
      "cell_type": "code",
      "metadata": {
        "colab": {
          "base_uri": "https://localhost:8080/"
        },
        "id": "5SLMPs3bHjIG",
        "outputId": "7f4f0677-8645-4d47-bfe5-b9ad09ab5f17"
      },
      "source": [
        "firstname = \"john\"\n",
        "lastname = \"doe\"\n",
        "email_extension = \"@gmail.com\"\n",
        "print(firstname + lastname + email_extension)\n",
        "#print(\"johndoe@gmail.comm\")"
      ],
      "execution_count": 19,
      "outputs": [
        {
          "output_type": "stream",
          "text": [
            "johndoe@gmail.com\n"
          ],
          "name": "stdout"
        }
      ]
    },
    {
      "cell_type": "code",
      "metadata": {
        "colab": {
          "base_uri": "https://localhost:8080/"
        },
        "id": "B1hYwUJIHjjq",
        "outputId": "7f0e364b-956c-49f7-9d2c-46107e2d334e"
      },
      "source": [
        "firstname = \"john\"\n",
        "print(firstname.upper())\n",
        "print(firstname.lower())\n"
      ],
      "execution_count": 9,
      "outputs": [
        {
          "output_type": "stream",
          "text": [
            "JOHN\n",
            "john\n"
          ],
          "name": "stdout"
        }
      ]
    },
    {
      "cell_type": "code",
      "metadata": {
        "colab": {
          "base_uri": "https://localhost:8080/"
        },
        "id": "gUg6R7o9IZq-",
        "outputId": "2391b7c3-4f98-4cbd-d0c6-c6a5d68ac0d4"
      },
      "source": [
        "# date = 15\n",
        "#message = \"hey John, do you want to hag out on the \"+ str(date)+ \"th of this month?\"\"\n",
        "message = \"Hey John, do you want to hang out on the \" + str(15) + \"th of this month?\"\n",
        "print (message)"
      ],
      "execution_count": 17,
      "outputs": [
        {
          "output_type": "stream",
          "text": [
            "Hey John, do you want to hang out on the 15th of this month?\n"
          ],
          "name": "stdout"
        }
      ]
    }
  ]
}