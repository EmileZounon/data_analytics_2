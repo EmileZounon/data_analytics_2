{
  "nbformat": 4,
  "nbformat_minor": 0,
  "metadata": {
    "colab": {
      "name": "Unit2L5 (python) Assignments.ipynb",
      "provenance": [],
      "authorship_tag": "ABX9TyPAg5NBAIRZFGzFbqeLIwCo",
      "include_colab_link": true
    },
    "kernelspec": {
      "name": "python3",
      "display_name": "Python 3"
    }
  },
  "cells": [
    {
      "cell_type": "markdown",
      "metadata": {
        "id": "view-in-github",
        "colab_type": "text"
      },
      "source": [
        "<a href=\"https://colab.research.google.com/github/EmileZounon/data_analytics_2/blob/main/Python/Unit2L5_(python)_Assignments.ipynb\" target=\"_parent\"><img src=\"https://colab.research.google.com/assets/colab-badge.svg\" alt=\"Open In Colab\"/></a>"
      ]
    },
    {
      "cell_type": "code",
      "metadata": {
        "colab": {
          "base_uri": "https://localhost:8080/"
        },
        "id": "N1qUchQP1iHj",
        "outputId": "4ae434e5-471c-4b2c-c303-b3d34797eff0"
      },
      "source": [
        "#Make a list of 5 or more usernames, including an admin account.\n",
        "#Imagine you are writing code that will welcome people to your application on login. \n",
        "#Loop through the list and print your greeting.\n",
        "#If the admin account logs in, give them a special greeting.  They’re the admin, after all!\n",
        "#Other users can get the generic greeting\n",
        "\n",
        "users = ['joe', 'jay', 'jean', 'john', 'josaphat','david']\n",
        "\n",
        "for name in users:\n",
        "  if name== 'joe':\n",
        "    print (\" Joe, Welcome to the app\")\n",
        "  elif name == 'jean':\n",
        "    print (\" Jean, Welcome to the app\")\n",
        "  elif name == 'john':\n",
        "    print (\" John, Welcome to the app\")\n",
        "  elif name == 'josaphat':\n",
        "    print (\" Josaphat, Welcome to the app\")\n",
        "  elif name == 'david':\n",
        "    print (\" David, welcome to the marvelous app whose you have all credentials\")"
      ],
      "execution_count": 23,
      "outputs": [
        {
          "output_type": "stream",
          "text": [
            " Joe, Welcome to the app\n",
            " Jean, Welcome to the app\n",
            " John, Welcome to the app\n",
            " Josaphat, Welcome to the app\n",
            " David, welcome to the marvelous app whose you have all credentials\n"
          ],
          "name": "stdout"
        }
      ]
    },
    {
      "cell_type": "code",
      "metadata": {
        "colab": {
          "base_uri": "https://localhost:8080/"
        },
        "id": "XOLf74dK3r_s",
        "outputId": "dc6816b6-dd75-49a9-956b-554c42bc9035"
      },
      "source": [
        "#Store numbers 1-10 in a list\n",
        "#Loop through the list\n",
        "#Use an if-elif-else chain inside your loop to print the ordinal ending for each number – for example – 1st, 2nd, 3rd … etc.\n",
        "\n",
        "numbers = ['1','2','3','4','5','6','7','8','9','10']\n",
        "for num in numbers:\n",
        "  print(num)\n",
        "  if num == str(1):\n",
        "    print(\"1st\")\n",
        "  elif num == str(2):\n",
        "    print(\"2nd\")\n",
        "  elif num == str(3):\n",
        "    print(\"3rd\")\n",
        "  elif num == str(4):\n",
        "    print('4th')\n",
        "  elif num == str(5):\n",
        "    print (\"5th\")\n",
        "  elif num == str(6):\n",
        "    print(\"6th\")\n",
        "  elif num == str(7):\n",
        "    print(\"7th\")\n",
        "  elif num == str(8):\n",
        "    print(\"8th\")\n",
        "  elif num == str(9):\n",
        "    print(\"9th\")\n",
        "  elif num == str(10):\n",
        "    print(\"10th\")\n",
        "#print(num)"
      ],
      "execution_count": 25,
      "outputs": [
        {
          "output_type": "stream",
          "text": [
            "1\n",
            "1st\n",
            "2\n",
            "2nd\n",
            "3\n",
            "3rd\n",
            "4\n",
            "4th\n",
            "5\n",
            "5th\n",
            "6\n",
            "6th\n",
            "7\n",
            "7th\n",
            "8\n",
            "8th\n",
            "9\n",
            "9th\n",
            "10\n",
            "10th\n"
          ],
          "name": "stdout"
        }
      ]
    }
  ]
}