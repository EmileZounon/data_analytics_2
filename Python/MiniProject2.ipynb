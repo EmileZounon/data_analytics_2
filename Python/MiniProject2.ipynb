{
  "nbformat": 4,
  "nbformat_minor": 0,
  "metadata": {
    "colab": {
      "name": "MiniProject2.ipynb",
      "provenance": [],
      "collapsed_sections": [],
      "authorship_tag": "ABX9TyN60H5IMHTKCq/H7LsllIYW",
      "include_colab_link": true
    },
    "kernelspec": {
      "name": "python3",
      "display_name": "Python 3"
    }
  },
  "cells": [
    {
      "cell_type": "markdown",
      "metadata": {
        "id": "view-in-github",
        "colab_type": "text"
      },
      "source": [
        "<a href=\"https://colab.research.google.com/github/EmileZounon/data_analytics_2/blob/main/Python/MiniProject2.ipynb\" target=\"_parent\"><img src=\"https://colab.research.google.com/assets/colab-badge.svg\" alt=\"Open In Colab\"/></a>"
      ]
    },
    {
      "cell_type": "code",
      "metadata": {
        "colab": {
          "base_uri": "https://localhost:8080/"
        },
        "id": "gv1fETvLFv-k",
        "outputId": "ca640bcb-1eb2-4653-b5b7-aff795222eca"
      },
      "source": [
        "#Make a two-player Rock-Paper-Scissors game.\n",
        "#(Hint: Ask for player plays (using input), \n",
        "#compare them, print out a message of congratulations to the winner, and ask if the players want to start a new game)\n",
        "#Remember the rules:\n",
        "#Rock beats scissors\n",
        "#Scissors beats paper\n",
        "#Paper beats rock\n",
        "\n",
        "player1 = input(\"P1, Please enter your choice: \")\n",
        "player2 = input(\"P2, Please enter your choice: \")\n",
        "\n",
        "listdujeu = ['rock', 'paper', 'scissor']\n",
        "\n",
        "while player1 not in listdujeu or player2 not in listdujeu:\n",
        "    print (\"Invalid input. Please check if you have correctly wrote rock, paper, scissor.\")\n",
        "    player1 = input(\"P1, Please enter your choice:  \")\n",
        "    player2 = input(\"P2, Please enter your choice:  \")\n",
        "\n",
        "while player1 == player2:\n",
        "    print (\"Nobody wins. Try again\")\n",
        "    player1 = input(\"P1, Please enter your choice:\")\n",
        "    player2 = sinput(\"P2, Please enter your choice: \")\n",
        "\n",
        "if player1 == \"rock\" and player2 == \"paper\":\n",
        "    print (\" Good Job Player 2, you are the winner\")\n",
        "elif player1 == \"paper\" and player2 == \"rock\":\n",
        "    print (\" Good Job Player 1, you are the winner\")\n",
        "elif player1 == \"rock\" and player2 == \"scissor\":\n",
        "    print (\" Good Job Player 1, you are the winner\")\n",
        "elif player1 == \"scissor\" and player2 == \"rock\":\n",
        "    print (\" Good Job Player 2, you are the winner\")\n",
        "elif player1 == \"paper\" and player2 == \"scissor\":\n",
        "    print (\" Good Job Player 2, you are the winner!\")\n",
        "elif player1 == \"scissor\" and player2 == \"paper\":\n",
        "    print (\" Good Job Player 1, you are the winner!\") \n",
        "\n",
        "print (\"\\nPlayers, Do you want to start a new game ?\")"
      ],
      "execution_count": 19,
      "outputs": [
        {
          "output_type": "stream",
          "text": [
            "P1, Please enter your choice: rock\n",
            "P2, Please enter your choice: scissor\n",
            " Good Job Player 1, you are the winner\n",
            "\n",
            "Players, Do you want to start a new game ?\n"
          ],
          "name": "stdout"
        }
      ]
    }
  ]
}