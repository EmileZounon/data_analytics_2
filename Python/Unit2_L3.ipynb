{
  "nbformat": 4,
  "nbformat_minor": 0,
  "metadata": {
    "colab": {
      "name": "Unit2_L3.ipynb",
      "provenance": [],
      "collapsed_sections": [],
      "authorship_tag": "ABX9TyPZwMbUGjXWXWLziNzRxFT9",
      "include_colab_link": true
    },
    "kernelspec": {
      "name": "python3",
      "display_name": "Python 3"
    }
  },
  "cells": [
    {
      "cell_type": "markdown",
      "metadata": {
        "id": "view-in-github",
        "colab_type": "text"
      },
      "source": [
        "<a href=\"https://colab.research.google.com/github/EmileZounon/data_analytics_2/blob/main/Python/Unit2_L3.ipynb\" target=\"_parent\"><img src=\"https://colab.research.google.com/assets/colab-badge.svg\" alt=\"Open In Colab\"/></a>"
      ]
    },
    {
      "cell_type": "code",
      "metadata": {
        "colab": {
          "base_uri": "https://localhost:8080/"
        },
        "id": "2P5AHj7jMve0",
        "outputId": "e66cf832-0e61-49c0-f0e1-b4023b444101"
      },
      "source": [
        "#Store the names of a few of your friends in a list called friends.\n",
        "friends = ['JOHN DOE', 'JANE DOE','JOE DOE', 'UNKNOWN']\n",
        "\n",
        "\n",
        "#Print each person’s name by accessing each element in the list one at a time.\n",
        "print(friends[0])\n",
        "print(friends[1])\n",
        "print(friends[2])\n",
        "print(friends[3])\n",
        "# Using your list friends, print a message to each friend\n",
        "message1 = \"\\nHey \" +friends[0]+ \", do you know where \" + friends[2] + \" is?\"\n",
        "print(message1)\n",
        "message2 = \"No you may want to ask \" + friends[1]\n",
        "print(message2)\n",
        "message3 = friends[1] +\", \" + friends[0] + \" said that you may know where \" + friends[2]+ \" is !\"\n",
        "print(message3)\n",
        "message4 = \"Sure, he is with \" + friends[3]\n",
        "print(message4)\n",
        "#print( message1 + message2 + message3 + message4)"
      ],
      "execution_count": 34,
      "outputs": [
        {
          "output_type": "stream",
          "text": [
            "JOHN DOE\n",
            "JANE DOE\n",
            "JOE DOE\n",
            "UNKNOWN\n",
            "\n",
            "Hey JOHN DOE, do you know where JOE DOE is?\n",
            "No you may want to ask JANE DOE\n",
            "JANE DOE, JOHN DOE said that you may know where JOE DOE is !\n",
            "Sure, he is with UNKNOWN\n"
          ],
          "name": "stdout"
        }
      ]
    }
  ]
}