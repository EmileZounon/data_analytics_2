{
  "nbformat": 4,
  "nbformat_minor": 0,
  "metadata": {
    "colab": {
      "name": "Unit3_Python_Advanced_Pandas_DataWrangling_Assignment.ipynb",
      "provenance": [],
      "collapsed_sections": [],
      "authorship_tag": "ABX9TyOm1xy/I1RBKS21d1A1jxWv",
      "include_colab_link": true
    },
    "kernelspec": {
      "name": "python3",
      "display_name": "Python 3"
    }
  },
  "cells": [
    {
      "cell_type": "markdown",
      "metadata": {
        "id": "view-in-github",
        "colab_type": "text"
      },
      "source": [
        "<a href=\"https://colab.research.google.com/github/EmileZounon/data_analytics_2/blob/main/Python/Unit3_Python_Advanced_Pandas_DataWrangling_Assignment.ipynb\" target=\"_parent\"><img src=\"https://colab.research.google.com/assets/colab-badge.svg\" alt=\"Open In Colab\"/></a>"
      ]
    },
    {
      "cell_type": "code",
      "metadata": {
        "colab": {
          "base_uri": "https://localhost:8080/"
        },
        "id": "Lbyc_8sZVzy2",
        "outputId": "179725d1-6091-4784-df2a-7774dcd470a4"
      },
      "source": [
        "import pandas as pd \n",
        "import numpy as np\n",
        "import matplotlib.pyplot as plt\n",
        "%matplotlib inline\n",
        "\n",
        "\n",
        "df = pd.read_csv('https://raw.githubusercontent.com/CunyLaguardiaDataAnalytics/datasets/master/Salaries.csv')\n",
        "\n",
        "#Making a new Data Frame that only has the columns 'sex' and 'salary'\n",
        "df2 = df [['sex', 'salary']]\n",
        "print(df2)"
      ],
      "execution_count": null,
      "outputs": [
        {
          "output_type": "stream",
          "text": [
            "      sex  salary\n",
            "0    Male  139750\n",
            "1    Male  173200\n",
            "2    Male   79750\n",
            "3    Male  115000\n",
            "4    Male  141500\n",
            "..    ...     ...\n",
            "392  Male  103106\n",
            "393  Male  150564\n",
            "394  Male  101738\n",
            "395  Male   95329\n",
            "396  Male   81035\n",
            "\n",
            "[397 rows x 2 columns]\n"
          ],
          "name": "stdout"
        }
      ]
    },
    {
      "cell_type": "code",
      "metadata": {
        "colab": {
          "base_uri": "https://localhost:8080/"
        },
        "id": "Lr-N7hTUkRNN",
        "outputId": "1cad6c20-a65a-4510-b6b2-ae80635125f4"
      },
      "source": [
        "#Mean of all salaries\n",
        "df['salary'].mean()\n"
      ],
      "execution_count": null,
      "outputs": [
        {
          "output_type": "execute_result",
          "data": {
            "text/plain": [
              "113706.45843828715"
            ]
          },
          "metadata": {
            "tags": []
          },
          "execution_count": 27
        }
      ]
    },
    {
      "cell_type": "code",
      "metadata": {
        "colab": {
          "base_uri": "https://localhost:8080/"
        },
        "id": "TzOm3WO1kQ9l",
        "outputId": "ccad7887-c285-454e-e1a6-6f6a8b76f884"
      },
      "source": [
        "#Median of all salaries\n",
        "df['salary'].median()"
      ],
      "execution_count": null,
      "outputs": [
        {
          "output_type": "execute_result",
          "data": {
            "text/plain": [
              "107300.0"
            ]
          },
          "metadata": {
            "tags": []
          },
          "execution_count": 28
        }
      ]
    },
    {
      "cell_type": "code",
      "metadata": {
        "colab": {
          "base_uri": "https://localhost:8080/"
        },
        "id": "RrlwPpCcV-bw",
        "outputId": "86a344eb-c30f-440e-abfd-1cd5e453c02f"
      },
      "source": [
        "\n",
        "#Finding the Median salary for all males\n",
        "df2[df2['sex'] == 'Male']['salary'].median()"
      ],
      "execution_count": null,
      "outputs": [
        {
          "output_type": "execute_result",
          "data": {
            "text/plain": [
              "108043.0"
            ]
          },
          "metadata": {
            "tags": []
          },
          "execution_count": 29
        }
      ]
    },
    {
      "cell_type": "code",
      "metadata": {
        "colab": {
          "base_uri": "https://localhost:8080/"
        },
        "id": "eXoEN_z3WkmT",
        "outputId": "8c378388-66d7-495e-ff5b-d316d52823d0"
      },
      "source": [
        "#Finding the Median salary for all females\n",
        "#df2[df2['sex']== 'Female'].median() \n",
        "df2[df2['sex']== 'Female']['salary'].median() "
      ],
      "execution_count": null,
      "outputs": [
        {
          "output_type": "execute_result",
          "data": {
            "text/plain": [
              "103750.0"
            ]
          },
          "metadata": {
            "tags": []
          },
          "execution_count": 30
        }
      ]
    },
    {
      "cell_type": "code",
      "metadata": {
        "colab": {
          "base_uri": "https://localhost:8080/"
        },
        "id": "WgzMmRjEXEc-",
        "outputId": "0f8c8c40-841c-4496-ea05-1052d296587c"
      },
      "source": [
        "##Comparing the Mean salary of Males and Females\n",
        "df2[df2['sex']== 'Female'].mean() == df2[df2['sex']== 'Male'].mean() \n"
      ],
      "execution_count": null,
      "outputs": [
        {
          "output_type": "execute_result",
          "data": {
            "text/plain": [
              "salary    False\n",
              "dtype: bool"
            ]
          },
          "metadata": {
            "tags": []
          },
          "execution_count": 15
        }
      ]
    },
    {
      "cell_type": "code",
      "metadata": {
        "colab": {
          "base_uri": "https://localhost:8080/"
        },
        "id": "eLbplDIiZqZB",
        "outputId": "17c7085e-1e6f-4e15-beda-8ac17d5ac9f1"
      },
      "source": [
        "print(df)"
      ],
      "execution_count": null,
      "outputs": [
        {
          "output_type": "stream",
          "text": [
            "     Unnamed: 0      rank discipline  yrs.since.phd  yrs.service   sex  salary\n",
            "0             1      Prof          B             19           18  Male  139750\n",
            "1             2      Prof          B             20           16  Male  173200\n",
            "2             3  AsstProf          B              4            3  Male   79750\n",
            "3             4      Prof          B             45           39  Male  115000\n",
            "4             5      Prof          B             40           41  Male  141500\n",
            "..          ...       ...        ...            ...          ...   ...     ...\n",
            "392         393      Prof          A             33           30  Male  103106\n",
            "393         394      Prof          A             31           19  Male  150564\n",
            "394         395      Prof          A             42           25  Male  101738\n",
            "395         396      Prof          A             25           15  Male   95329\n",
            "396         397  AsstProf          A              8            4  Male   81035\n",
            "\n",
            "[397 rows x 7 columns]\n"
          ],
          "name": "stdout"
        }
      ]
    },
    {
      "cell_type": "code",
      "metadata": {
        "colab": {
          "base_uri": "https://localhost:8080/"
        },
        "id": "VwxmEyaseQ6H",
        "outputId": "93d90d32-8b49-4fcc-df82-069eccc7f634"
      },
      "source": [
        "#People who have 20 years of experience (Total: 157), (Mean Salary: 122,520.66)\n",
        "print(df[df['yrs.service'] > 19]['salary'].count())\n",
        "df[df['yrs.service'] > 19]['salary'].mean()"
      ],
      "execution_count": null,
      "outputs": [
        {
          "output_type": "stream",
          "text": [
            "157\n"
          ],
          "name": "stdout"
        },
        {
          "output_type": "execute_result",
          "data": {
            "text/plain": [
              "122520.65605095541"
            ]
          },
          "metadata": {
            "tags": []
          },
          "execution_count": 36
        }
      ]
    },
    {
      "cell_type": "code",
      "metadata": {
        "colab": {
          "base_uri": "https://localhost:8080/"
        },
        "id": "F5_odGlhfdpd",
        "outputId": "069e407a-99d3-44ea-a705-c0fc3215f6b5"
      },
      "source": [
        "#Comparing the salaries of people who have 20+ years of experience vs less than 20 years of experience\n",
        "\n",
        "#df[df['yrs.service']>21].mean()==df[df['yrs.service']<20].mean()\n",
        "\n",
        "df[df['yrs.service'] > 20].groupby('sex')['salary'].count() == df[df['yrs.service'] < 20].groupby('sex')['salary'].count()\n",
        "#df[df['salary'] > 120000].groupby('sex')['salary'].count()\n"
      ],
      "execution_count": null,
      "outputs": [
        {
          "output_type": "execute_result",
          "data": {
            "text/plain": [
              "sex\n",
              "Female    False\n",
              "Male      False\n",
              "Name: salary, dtype: bool"
            ]
          },
          "metadata": {
            "tags": []
          },
          "execution_count": 49
        }
      ]
    },
    {
      "cell_type": "code",
      "metadata": {
        "colab": {
          "base_uri": "https://localhost:8080/",
          "height": 142
        },
        "id": "VecJl1hUuC6u",
        "outputId": "82fb7cb2-6960-4bd9-dfa9-4964e693a5a8"
      },
      "source": [
        "#People who have salary of greater than or equal to 200,000\n",
        "df[df['salary'] >= 200000]\n"
      ],
      "execution_count": null,
      "outputs": [
        {
          "output_type": "execute_result",
          "data": {
            "text/html": [
              "<div>\n",
              "<style scoped>\n",
              "    .dataframe tbody tr th:only-of-type {\n",
              "        vertical-align: middle;\n",
              "    }\n",
              "\n",
              "    .dataframe tbody tr th {\n",
              "        vertical-align: top;\n",
              "    }\n",
              "\n",
              "    .dataframe thead th {\n",
              "        text-align: right;\n",
              "    }\n",
              "</style>\n",
              "<table border=\"1\" class=\"dataframe\">\n",
              "  <thead>\n",
              "    <tr style=\"text-align: right;\">\n",
              "      <th></th>\n",
              "      <th>Unnamed: 0</th>\n",
              "      <th>rank</th>\n",
              "      <th>discipline</th>\n",
              "      <th>yrs.since.phd</th>\n",
              "      <th>yrs.service</th>\n",
              "      <th>sex</th>\n",
              "      <th>salary</th>\n",
              "    </tr>\n",
              "  </thead>\n",
              "  <tbody>\n",
              "    <tr>\n",
              "      <th>43</th>\n",
              "      <td>44</td>\n",
              "      <td>Prof</td>\n",
              "      <td>B</td>\n",
              "      <td>38</td>\n",
              "      <td>38</td>\n",
              "      <td>Male</td>\n",
              "      <td>231545</td>\n",
              "    </tr>\n",
              "    <tr>\n",
              "      <th>249</th>\n",
              "      <td>250</td>\n",
              "      <td>Prof</td>\n",
              "      <td>A</td>\n",
              "      <td>29</td>\n",
              "      <td>7</td>\n",
              "      <td>Male</td>\n",
              "      <td>204000</td>\n",
              "    </tr>\n",
              "    <tr>\n",
              "      <th>364</th>\n",
              "      <td>365</td>\n",
              "      <td>Prof</td>\n",
              "      <td>A</td>\n",
              "      <td>43</td>\n",
              "      <td>43</td>\n",
              "      <td>Male</td>\n",
              "      <td>205500</td>\n",
              "    </tr>\n",
              "  </tbody>\n",
              "</table>\n",
              "</div>"
            ],
            "text/plain": [
              "     Unnamed: 0  rank discipline  yrs.since.phd  yrs.service   sex  salary\n",
              "43           44  Prof          B             38           38  Male  231545\n",
              "249         250  Prof          A             29            7  Male  204000\n",
              "364         365  Prof          A             43           43  Male  205500"
            ]
          },
          "metadata": {
            "tags": []
          },
          "execution_count": 34
        }
      ]
    },
    {
      "cell_type": "code",
      "metadata": {
        "colab": {
          "base_uri": "https://localhost:8080/"
        },
        "id": "-IPCPKwsui5y",
        "outputId": "c9ed0970-484e-4777-da4b-c1db913dd421"
      },
      "source": [
        "#Rename values, subset columns, etc¶\n",
        "df.rename(columns = {'Unnamed: 0': 'IDNumber','rank':'grade', 'yrs.since.phd':'yrs.since.phd','yrs.service':'seniority'},inplace = True)\n",
        "print(df)"
      ],
      "execution_count": null,
      "outputs": [
        {
          "output_type": "stream",
          "text": [
            "     IDNumber     grade discipline  yrs.since.phd  seniority   sex  salary\n",
            "0           1      Prof          B             19         18  Male  139750\n",
            "1           2      Prof          B             20         16  Male  173200\n",
            "2           3  AsstProf          B              4          3  Male   79750\n",
            "3           4      Prof          B             45         39  Male  115000\n",
            "4           5      Prof          B             40         41  Male  141500\n",
            "..        ...       ...        ...            ...        ...   ...     ...\n",
            "392       393      Prof          A             33         30  Male  103106\n",
            "393       394      Prof          A             31         19  Male  150564\n",
            "394       395      Prof          A             42         25  Male  101738\n",
            "395       396      Prof          A             25         15  Male   95329\n",
            "396       397  AsstProf          A              8          4  Male   81035\n",
            "\n",
            "[397 rows x 7 columns]\n"
          ],
          "name": "stdout"
        }
      ]
    },
    {
      "cell_type": "code",
      "metadata": {
        "id": "WuA2dP-gXn0S",
        "colab": {
          "base_uri": "https://localhost:8080/",
          "height": 325
        },
        "outputId": "b9240043-1639-4862-a0eb-6a4baeec6754"
      },
      "source": [
        "#Create some visualisations\n",
        "df.groupby('sex')['salary'].mean().plot(kind ='bar')"
      ],
      "execution_count": null,
      "outputs": [
        {
          "output_type": "execute_result",
          "data": {
            "text/plain": [
              "<matplotlib.axes._subplots.AxesSubplot at 0x7f1862109fd0>"
            ]
          },
          "metadata": {
            "tags": []
          },
          "execution_count": 46
        },
        {
          "output_type": "display_data",
          "data": {
            "image/png": "[encoded data removed]",
            "text/plain": [
              "<Figure size 432x288 with 1 Axes>"
            ]
          },
          "metadata": {
            "tags": [],
            "needs_background": "light"
          }
        }
      ]
    },
    {
      "cell_type": "code",
      "metadata": {
        "colab": {
          "base_uri": "https://localhost:8080/",
          "height": 291
        },
        "id": "eMDP_tcxZQGd",
        "outputId": "ad6de87d-289c-4773-dbac-c50182b4932b"
      },
      "source": [
        "#People who have salary more than 200.000\n",
        "df[df['salary'] > 200000].plot(kind = 'bar')"
      ],
      "execution_count": null,
      "outputs": [
        {
          "output_type": "execute_result",
          "data": {
            "text/plain": [
              "<matplotlib.axes._subplots.AxesSubplot at 0x7f186a0a0cf8>"
            ]
          },
          "metadata": {
            "tags": []
          },
          "execution_count": 47
        },
        {
          "output_type": "display_data",
          "data": {
            "image/png": "[encoded data removed]",
            "text/plain": [
              "<Figure size 432x288 with 1 Axes>"
            ]
          },
          "metadata": {
            "tags": [],
            "needs_background": "light"
          }
        }
      ]
    },
    {
      "cell_type": "code",
      "metadata": {
        "colab": {
          "base_uri": "https://localhost:8080/",
          "height": 301
        },
        "id": "BUdbyxZSZbVZ",
        "outputId": "5d549d62-d6d3-46aa-e53e-81d48340e681"
      },
      "source": [
        "df.describe().plot(kind = 'bar')"
      ],
      "execution_count": null,
      "outputs": [
        {
          "output_type": "execute_result",
          "data": {
            "text/plain": [
              "<matplotlib.axes._subplots.AxesSubplot at 0x7f186a23d780>"
            ]
          },
          "metadata": {
            "tags": []
          },
          "execution_count": 13
        },
        {
          "output_type": "display_data",
          "data": {
            "image/png": "[encoded data removed]",
            "text/plain": [
              "<Figure size 432x288 with 1 Axes>"
            ]
          },
          "metadata": {
            "tags": [],
            "needs_background": "light"
          }
        }
      ]
    },
    {
      "cell_type": "code",
      "metadata": {
        "colab": {
          "base_uri": "https://localhost:8080/",
          "height": 282
        },
        "id": "atydzlayZmGV",
        "outputId": "b8c8a811-3aac-44fc-ca6c-3d0ecce14746"
      },
      "source": [
        "df.describe().plot()"
      ],
      "execution_count": null,
      "outputs": [
        {
          "output_type": "execute_result",
          "data": {
            "text/plain": [
              "<matplotlib.axes._subplots.AxesSubplot at 0x7f1869f7bda0>"
            ]
          },
          "metadata": {
            "tags": []
          },
          "execution_count": 16
        },
        {
          "output_type": "display_data",
          "data": {
            "image/png": "[encoded data removed]",
            "text/plain": [
              "<Figure size 432x288 with 1 Axes>"
            ]
          },
          "metadata": {
            "tags": [],
            "needs_background": "light"
          }
        }
      ]
    },
    {
      "cell_type": "code",
      "metadata": {
        "colab": {
          "base_uri": "https://localhost:8080/",
          "height": 373
        },
        "id": "1UTDvjkqeTxy",
        "outputId": "67796ba5-ea59-4032-dda9-2bd81492a861"
      },
      "source": [
        "df[df['yrs.service'] > 20].groupby('sex')['salary'].count() == df[df['yrs.service'] < 20].groupby('sex')['salary'].count().plot(kind = 'bar')"
      ],
      "execution_count": null,
      "outputs": [
        {
          "output_type": "execute_result",
          "data": {
            "text/plain": [
              "sex\n",
              "Female    False\n",
              "Male      False\n",
              "Name: salary, dtype: bool"
            ]
          },
          "metadata": {
            "tags": []
          },
          "execution_count": 26
        },
        {
          "output_type": "display_data",
          "data": {
            "image/png": "[encoded data removed]",
            "text/plain": [
              "<Figure size 432x288 with 1 Axes>"
            ]
          },
          "metadata": {
            "tags": [],
            "needs_background": "light"
          }
        }
      ]
    },
    {
      "cell_type": "markdown",
      "metadata": {
        "id": "rU4OmxnRc5Me"
      },
      "source": [
        "Draw some conclusions based on the data. What did you discover?\n",
        "Based on the analysis performed above, the conclusions are as follows:\n",
        "\n",
        "I discovered that:\n",
        "\n",
        "\n",
        "People who have 20 years of experience: ***157*** \n",
        "\n",
        "People who have a salary above 200.000: ***3***\n",
        "\n",
        "The mean salary of Males and Females are different. Males get more salary than Females\n",
        "\n"
      ]
    }
  ]
}